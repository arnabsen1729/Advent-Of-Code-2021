{
 "cells": [
  {
   "cell_type": "code",
   "execution_count": 36,
   "metadata": {},
   "outputs": [],
   "source": [
    "input = '''[({(<(())[]>[[{[]{<()<>>\n",
    "[(()[<>])]({[<{<<[]>>(\n",
    "{([(<{}[<>[]}>{[]{[(<()>\n",
    "(((({<>}<{<{<>}{[]{[]{}\n",
    "[[<[([]))<([[{}[[()]]]\n",
    "[{[{({}]{}}([{[{{{}}([]\n",
    "{<[[]]>}<{[{[{[]{()[[[]\n",
    "[<(<(<(<{}))><([]([]()\n",
    "<{([([[(<>()){}]>(<<{{\n",
    "<{([{{}}[<[[[<>{}]]]>[]]'''.strip().split('\\n')"
   ]
  },
  {
   "cell_type": "code",
   "execution_count": 48,
   "metadata": {},
   "outputs": [],
   "source": [
    "input = open('input.txt').read().strip().split('\\n')"
   ]
  },
  {
   "cell_type": "code",
   "execution_count": 49,
   "metadata": {},
   "outputs": [],
   "source": [
    "POINTS = {\n",
    "    ')': 3,\n",
    "    ']': 57,\n",
    "    '}': 1197,\n",
    "    '>': 25137\n",
    "}\n",
    "OPENING_PARENS = {\n",
    "    ')': '(',\n",
    "    ']': '[',\n",
    "    '}': '{',\n",
    "    '>': '<'\n",
    "}\n",
    "CLOSING_PARENS = {\n",
    "    '(': ')',\n",
    "    '[': ']',\n",
    "    '{': '}',\n",
    "    '<': '>'\n",
    "}\n",
    "NEW_POINTS = {\n",
    "    ')': 1,\n",
    "    ']': 2,\n",
    "    '}': 3,\n",
    "    '>': 4\n",
    "}"
   ]
  },
  {
   "cell_type": "code",
   "execution_count": 50,
   "metadata": {},
   "outputs": [],
   "source": [
    "def get_score(input):\n",
    "    score = 0\n",
    "    for char in input:\n",
    "        score = score*5 + NEW_POINTS[char]\n",
    "    return score"
   ]
  },
  {
   "cell_type": "code",
   "execution_count": 52,
   "metadata": {},
   "outputs": [
    {
     "name": "stdout",
     "output_type": "stream",
     "text": [
      "Part 1: 462693\n",
      "Part 2: 3094671161\n"
     ]
    }
   ],
   "source": [
    "score = 0\n",
    "scores = []\n",
    "for line in input:\n",
    "    stack = []\n",
    "    flag = True\n",
    "    for char in line:\n",
    "        if char in OPENING_PARENS:\n",
    "            if stack and stack[-1] == OPENING_PARENS[char]:\n",
    "                stack.pop()\n",
    "            else:\n",
    "                score += POINTS[char]\n",
    "                flag = False\n",
    "                break\n",
    "        else:\n",
    "            stack.append(char)\n",
    "    \n",
    "    # determine the rest\n",
    "    if not flag:\n",
    "        continue\n",
    "\n",
    "    closing = ''\n",
    "    while stack:\n",
    "        char = stack.pop()\n",
    "        if char in CLOSING_PARENS:\n",
    "            closing += CLOSING_PARENS[char]\n",
    "    scores.append(get_score(closing))\n",
    "print('Part 1:', score)\n",
    "print('Part 2:', sorted(scores)[len(scores)//2])"
   ]
  }
 ],
 "metadata": {
  "interpreter": {
   "hash": "31f2aee4e71d21fbe5cf8b01ff0e069b9275f58929596ceb00d14d90e3e16cd6"
  },
  "kernelspec": {
   "display_name": "Python 3.9.2 64-bit",
   "language": "python",
   "name": "python3"
  },
  "language_info": {
   "codemirror_mode": {
    "name": "ipython",
    "version": 3
   },
   "file_extension": ".py",
   "mimetype": "text/x-python",
   "name": "python",
   "nbconvert_exporter": "python",
   "pygments_lexer": "ipython3",
   "version": "3.9.2"
  },
  "orig_nbformat": 4
 },
 "nbformat": 4,
 "nbformat_minor": 2
}
