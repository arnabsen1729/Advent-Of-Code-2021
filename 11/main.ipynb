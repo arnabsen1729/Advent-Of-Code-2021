{
 "cells": [
  {
   "cell_type": "code",
   "execution_count": 1,
   "metadata": {},
   "outputs": [],
   "source": [
    "with open('input.txt') as f:\n",
    "    matrix = [[int(x) for x in line.strip()] for line in f.readlines()]"
   ]
  },
  {
   "cell_type": "code",
   "execution_count": 2,
   "metadata": {},
   "outputs": [],
   "source": [
    "SIZE = len(matrix)\n",
    "\n",
    "def is_valid(coord):\n",
    "    return 0 <= coord[0] < SIZE and 0 <= coord[1] < SIZE\n",
    "\n",
    "def get_neighbours(x, y):\n",
    "    delta = (-1, 0, 1)\n",
    "    return list(filter(is_valid, [(x + dx, y + dy) for dx in delta for dy in delta if not (dx == dy == 0)]))"
   ]
  },
  {
   "cell_type": "code",
   "execution_count": 3,
   "metadata": {},
   "outputs": [],
   "source": [
    "def bfs(matrix, queue, count):\n",
    "    while queue:\n",
    "        x, y = queue.pop()\n",
    "        for row, col in get_neighbours(x, y):\n",
    "            if matrix[row][col] == 0:\n",
    "                continue\n",
    "            matrix[row][col] = (matrix[row][col] + 1) % 10\n",
    "            if matrix[row][col] == 0:\n",
    "                count += 1\n",
    "                queue.append((row, col))\n",
    "    return count\n",
    "                \n",
    "    \n",
    "def do_step(matrix, count = 0):\n",
    "    queue = []\n",
    "    for row in range(SIZE):\n",
    "        for col in range(SIZE):\n",
    "            matrix[row][col] = (matrix[row][col] + 1) % 10\n",
    "            if matrix[row][col] == 0:\n",
    "                count += 1\n",
    "    for row in range(SIZE):\n",
    "        for col in range(SIZE):\n",
    "            if matrix[row][col] == 0:\n",
    "                queue.append((row, col))\n",
    "    return bfs(matrix, queue, count)\n",
    "\n",
    "def display(matrix):\n",
    "    for row in matrix:\n",
    "        print(*row)"
   ]
  },
  {
   "cell_type": "code",
   "execution_count": 4,
   "metadata": {},
   "outputs": [
    {
     "name": "stdout",
     "output_type": "stream",
     "text": [
      "1702\n"
     ]
    }
   ],
   "source": [
    "ITER_NUM = 100\n",
    "result = 0\n",
    "\n",
    "for step in range(ITER_NUM):\n",
    "    result += do_step(matrix)\n",
    "\n",
    "print(result)"
   ]
  },
  {
   "cell_type": "code",
   "execution_count": 7,
   "metadata": {},
   "outputs": [
    {
     "data": {
      "text/plain": [
       "[[8, 5, 7, 7, 2, 4, 5, 5, 4, 7],\n",
       " [1, 6, 5, 4, 3, 3, 3, 6, 5, 3],\n",
       " [5, 3, 6, 5, 6, 3, 3, 7, 8, 5],\n",
       " [1, 3, 3, 3, 2, 4, 3, 2, 2, 6],\n",
       " [4, 2, 7, 2, 3, 8, 5, 1, 6, 5],\n",
       " [5, 6, 8, 8, 3, 2, 8, 4, 3, 2],\n",
       " [3, 1, 7, 5, 6, 3, 4, 2, 5, 4],\n",
       " [6, 7, 7, 5, 1, 4, 2, 2, 2, 7],\n",
       " [6, 1, 5, 2, 7, 2, 1, 4, 1, 5],\n",
       " [2, 6, 7, 8, 2, 2, 7, 3, 2, 5]]"
      ]
     },
     "execution_count": 7,
     "metadata": {},
     "output_type": "execute_result"
    }
   ],
   "source": [
    "with open('input.txt') as f:\n",
    "    matrix = [[int(x) for x in line.strip()] for line in f.readlines()]\n",
    "    \n",
    "matrix"
   ]
  },
  {
   "cell_type": "code",
   "execution_count": 8,
   "metadata": {},
   "outputs": [],
   "source": [
    "def all_flash(matrix):\n",
    "    return all([all(y == 0 for y in row) for row in matrix])"
   ]
  },
  {
   "cell_type": "code",
   "execution_count": 9,
   "metadata": {},
   "outputs": [
    {
     "name": "stdout",
     "output_type": "stream",
     "text": [
      "251\n"
     ]
    }
   ],
   "source": [
    "step_count = 0\n",
    "\n",
    "while not all_flash(matrix):\n",
    "    do_step(matrix)\n",
    "    step_count += 1\n",
    "    \n",
    "print(step_count)"
   ]
  }
 ],
 "metadata": {
  "interpreter": {
   "hash": "31f2aee4e71d21fbe5cf8b01ff0e069b9275f58929596ceb00d14d90e3e16cd6"
  },
  "kernelspec": {
   "display_name": "Python 3.9.2 64-bit",
   "language": "python",
   "name": "python3"
  },
  "language_info": {
   "codemirror_mode": {
    "name": "ipython",
    "version": 3
   },
   "file_extension": ".py",
   "mimetype": "text/x-python",
   "name": "python",
   "nbconvert_exporter": "python",
   "pygments_lexer": "ipython3",
   "version": "3.9.2"
  },
  "orig_nbformat": 4
 },
 "nbformat": 4,
 "nbformat_minor": 2
}
