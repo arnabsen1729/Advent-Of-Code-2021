{
 "cells": [
  {
   "cell_type": "code",
   "execution_count": 59,
   "metadata": {},
   "outputs": [],
   "source": [
    "from collections import defaultdict"
   ]
  },
  {
   "cell_type": "code",
   "execution_count": 60,
   "metadata": {},
   "outputs": [],
   "source": [
    "def get_adj_list(edges):\n",
    "    adj_list = {}\n",
    "    edges = [x.split('-') for x in edges]\n",
    "    for edge in edges:\n",
    "        if edge[0] not in adj_list:\n",
    "            adj_list[edge[0]] = []\n",
    "        if edge[1] not in adj_list:\n",
    "            adj_list[edge[1]] = []\n",
    "        adj_list[edge[0]].append(edge[1])\n",
    "        adj_list[edge[1]].append(edge[0])\n",
    "    return adj_list"
   ]
  },
  {
   "cell_type": "code",
   "execution_count": 61,
   "metadata": {},
   "outputs": [],
   "source": [
    "input = '''fs-end\n",
    "he-DX\n",
    "fs-he\n",
    "start-DX\n",
    "pj-DX\n",
    "end-zg\n",
    "zg-sl\n",
    "zg-pj\n",
    "pj-he\n",
    "RW-he\n",
    "fs-DX\n",
    "pj-RW\n",
    "zg-RW\n",
    "start-pj\n",
    "he-WI\n",
    "zg-he\n",
    "pj-fs\n",
    "start-RW'''.strip().split('\\n')"
   ]
  },
  {
   "cell_type": "code",
   "execution_count": 62,
   "metadata": {},
   "outputs": [],
   "source": [
    "input = open('input.txt').read().strip().split('\\n')"
   ]
  },
  {
   "cell_type": "code",
   "execution_count": 63,
   "metadata": {},
   "outputs": [],
   "source": [
    "ADJ = get_adj_list(input)"
   ]
  },
  {
   "cell_type": "code",
   "execution_count": 64,
   "metadata": {},
   "outputs": [
    {
     "name": "stdout",
     "output_type": "stream",
     "text": [
      "3779\n"
     ]
    }
   ],
   "source": [
    "# count number of paths to reach end\n",
    "visited = set()\n",
    "path_count = 0\n",
    "def count_paths(node):\n",
    "    global path_count\n",
    "    if node == 'end':\n",
    "        path_count += 1\n",
    "        return\n",
    "\n",
    "    if node in visited:\n",
    "        return\n",
    "\n",
    "    if node.islower():\n",
    "        visited.add(node)\n",
    "\n",
    "    for n in ADJ[node]:\n",
    "        count_paths(n)      \n",
    "\n",
    "    if node in visited:\n",
    "        visited.remove(node)\n",
    "\n",
    "count_paths('start')\n",
    "print(path_count)\n",
    "        \n"
   ]
  },
  {
   "cell_type": "code",
   "execution_count": 65,
   "metadata": {},
   "outputs": [
    {
     "name": "stdout",
     "output_type": "stream",
     "text": [
      "96988\n"
     ]
    }
   ],
   "source": [
    "visit_count = defaultdict(int)\n",
    "special_cave = ''\n",
    "path_count = 0\n",
    "def count_paths2(node):\n",
    "    # print(node)\n",
    "    global path_count, special_cave\n",
    "    if node == 'end':\n",
    "        path_count += 1\n",
    "        return\n",
    "\n",
    "    if node.islower():\n",
    "        if visit_count[node] == 2:\n",
    "            return\n",
    "        elif special_cave == '' and visit_count[node] == 1:\n",
    "            special_cave = node\n",
    "        elif special_cave != '' and visit_count[node] == 1:\n",
    "            return        \n",
    "        visit_count[node] += 1\n",
    "\n",
    "\n",
    "    for n in ADJ[node]:\n",
    "        if n != 'start':\n",
    "            count_paths2(n)      \n",
    "\n",
    "    if node.islower():\n",
    "        visit_count[node] -= 1\n",
    "        if visit_count[node] == 1:\n",
    "            special_cave = ''\n",
    "\n",
    "\n",
    "count_paths2('start')\n",
    "print(path_count)\n",
    "        \n"
   ]
  }
 ],
 "metadata": {
  "interpreter": {
   "hash": "31f2aee4e71d21fbe5cf8b01ff0e069b9275f58929596ceb00d14d90e3e16cd6"
  },
  "kernelspec": {
   "display_name": "Python 3.9.2 64-bit",
   "language": "python",
   "name": "python3"
  },
  "language_info": {
   "codemirror_mode": {
    "name": "ipython",
    "version": 3
   },
   "file_extension": ".py",
   "mimetype": "text/x-python",
   "name": "python",
   "nbconvert_exporter": "python",
   "pygments_lexer": "ipython3",
   "version": "3.9.2"
  },
  "orig_nbformat": 4
 },
 "nbformat": 4,
 "nbformat_minor": 2
}
