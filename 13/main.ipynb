{
 "cells": [
  {
   "cell_type": "code",
   "execution_count": 1,
   "metadata": {},
   "outputs": [],
   "source": [
    "def parse_input(txt):\n",
    "    lines = txt.strip().split('\\n')\n",
    "    sep = lines.index('')\n",
    "    coord_data = lines[:sep]\n",
    "    fold_data = lines[sep+1:]\n",
    "    coords = [tuple([int(y) for y in x.split(',')]) for x in coord_data]\n",
    "    folds = [f.replace('fold along ', '').split('=') for f in fold_data]\n",
    "    folds = [(f[0].strip(), int(f[1])) for f in folds]\n",
    "    return coords, folds"
   ]
  },
  {
   "cell_type": "code",
   "execution_count": 2,
   "metadata": {},
   "outputs": [],
   "source": [
    "input = '''6,10\n",
    "0,14\n",
    "9,10\n",
    "0,3\n",
    "10,4\n",
    "4,11\n",
    "6,0\n",
    "6,12\n",
    "4,1\n",
    "0,13\n",
    "10,12\n",
    "3,4\n",
    "3,0\n",
    "8,4\n",
    "1,10\n",
    "2,14\n",
    "8,10\n",
    "9,0\n",
    "\n",
    "fold along y=7\n",
    "fold along x=5'''"
   ]
  },
  {
   "cell_type": "code",
   "execution_count": 3,
   "metadata": {},
   "outputs": [],
   "source": [
    "input = open('input.txt').read()"
   ]
  },
  {
   "cell_type": "code",
   "execution_count": 4,
   "metadata": {},
   "outputs": [],
   "source": [
    "coords, folds = parse_input(input)\n",
    "marked = set(coords)\n"
   ]
  },
  {
   "cell_type": "code",
   "execution_count": 5,
   "metadata": {},
   "outputs": [],
   "source": [
    "def fold(fold):\n",
    "    axis, value = fold\n",
    "    global marked\n",
    "    new_marked = set()\n",
    "    if axis == 'x':\n",
    "        for c in marked:\n",
    "            if c[0] > value:\n",
    "                new_marked.add((2*value-c[0], c[1]))\n",
    "            elif c[0] < value:\n",
    "                new_marked.add((c[0], c[1]))\n",
    "    else:\n",
    "        for c in marked:\n",
    "            if c[1] > value:\n",
    "                new_marked.add((c[0], 2*value-c[1]))\n",
    "            elif c[1] < value:\n",
    "                new_marked.add((c[0], c[1]))\n",
    "    \n",
    "    marked = new_marked"
   ]
  },
  {
   "cell_type": "code",
   "execution_count": 6,
   "metadata": {},
   "outputs": [
    {
     "name": "stdout",
     "output_type": "stream",
     "text": [
      "790\n"
     ]
    }
   ],
   "source": [
    "# print(marked)\n",
    "fold(folds[0])\n",
    "print(len(marked))\n"
   ]
  },
  {
   "cell_type": "code",
   "execution_count": 7,
   "metadata": {},
   "outputs": [
    {
     "name": "stdout",
     "output_type": "stream",
     "text": [
      "6 39\n",
      "###   ##  #  # #### ###  ####   ##  ## \n",
      "#  # #  # #  #    # #  # #       # #  #\n",
      "#  # #    ####   #  ###  ###     # #   \n",
      "###  # ## #  #  #   #  # #       # #   \n",
      "#    #  # #  # #    #  # #    #  # #  #\n",
      "#     ### #  # #### ###  #     ##   ## \n"
     ]
    }
   ],
   "source": [
    "for f in folds[1:]:\n",
    "    fold(f)\n",
    "rows = max(marked, key=lambda x: x[1])[1] + 1\n",
    "cols = max(marked, key=lambda x: x[0])[0] + 1\n",
    "print(rows, cols)\n",
    "matrix = [[' ' for x in range(cols)] for y in range(rows)]\n",
    "for c in marked:\n",
    "    matrix[c[1]][c[0]] = '#'\n",
    "\n",
    "print('\\n'.join([''.join(x) for x in matrix]))\n",
    "# PGHZBFJC"
   ]
  }
 ],
 "metadata": {
  "interpreter": {
   "hash": "31f2aee4e71d21fbe5cf8b01ff0e069b9275f58929596ceb00d14d90e3e16cd6"
  },
  "kernelspec": {
   "display_name": "Python 3.9.2 64-bit",
   "language": "python",
   "name": "python3"
  },
  "language_info": {
   "codemirror_mode": {
    "name": "ipython",
    "version": 3
   },
   "file_extension": ".py",
   "mimetype": "text/x-python",
   "name": "python",
   "nbconvert_exporter": "python",
   "pygments_lexer": "ipython3",
   "version": "3.9.2"
  },
  "orig_nbformat": 4
 },
 "nbformat": 4,
 "nbformat_minor": 2
}
