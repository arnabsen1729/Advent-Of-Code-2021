{
 "cells": [
  {
   "cell_type": "code",
   "execution_count": 1,
   "metadata": {},
   "outputs": [],
   "source": [
    "import functools"
   ]
  },
  {
   "cell_type": "code",
   "execution_count": 2,
   "metadata": {},
   "outputs": [],
   "source": [
    "def parse_input(txt):\n",
    "    lines = txt.strip().split('\\n')\n",
    "    template = lines[0]\n",
    "    ins_map = {}\n",
    "    for line in lines[2:]:\n",
    "        ins, op = line.split(' -> ')\n",
    "        ins_map[ins] = op\n",
    "    \n",
    "    return template, ins_map"
   ]
  },
  {
   "cell_type": "code",
   "execution_count": 3,
   "metadata": {},
   "outputs": [],
   "source": [
    "input = '''NNCB\n",
    "\n",
    "CH -> B\n",
    "HH -> N\n",
    "CB -> H\n",
    "NH -> C\n",
    "HB -> C\n",
    "HC -> B\n",
    "HN -> C\n",
    "NN -> C\n",
    "BH -> H\n",
    "NC -> B\n",
    "NB -> B\n",
    "BN -> B\n",
    "BB -> N\n",
    "BC -> B\n",
    "CC -> N\n",
    "CN -> C\n",
    "'''"
   ]
  },
  {
   "cell_type": "code",
   "execution_count": 4,
   "metadata": {},
   "outputs": [],
   "source": [
    "input = open('input.txt').read()"
   ]
  },
  {
   "cell_type": "code",
   "execution_count": 5,
   "metadata": {},
   "outputs": [
    {
     "name": "stdout",
     "output_type": "stream",
     "text": [
      "Part 1: 3118\n",
      "Part 2: 4332887448171\n"
     ]
    }
   ],
   "source": [
    "template, ins_map = parse_input(input)\n",
    "\n",
    "def solve(ITERATION):\n",
    "    global template, ins_map\n",
    "    count = [0]*26\n",
    "    for c in template:\n",
    "        count[ord(c)-ord('A')] += 1\n",
    "\n",
    "    @functools.cache\n",
    "    def dfs(subs, depth):\n",
    "        global ins_map\n",
    "        lc = [0]*26\n",
    "\n",
    "        if depth == ITERATION:\n",
    "            return lc\n",
    "\n",
    "        if subs in ins_map:\n",
    "            lc[ord(ins_map[subs])-ord('A')] += 1\n",
    "            for i, c in enumerate(dfs(subs[0] + ins_map[subs], depth+1)):\n",
    "                lc[i] += c\n",
    "            for i, c in enumerate(dfs(ins_map[subs] + subs[1], depth+1)):\n",
    "                lc[i] += c\n",
    "        return lc\n",
    "\n",
    "\n",
    "    for i in range(len(template)-1):\n",
    "        for j, c in enumerate(dfs(template[i:i+2], 0)):\n",
    "            count[j] += c\n",
    "    dfs.cache_clear()\n",
    "\n",
    "    count = [c for c in count if c > 0]\n",
    "    return (max(count) - min(count))\n",
    "\n",
    "print('Part 1:', solve(10))\n",
    "print('Part 2:', solve(40))\n"
   ]
  }
 ],
 "metadata": {
  "interpreter": {
   "hash": "31f2aee4e71d21fbe5cf8b01ff0e069b9275f58929596ceb00d14d90e3e16cd6"
  },
  "kernelspec": {
   "display_name": "Python 3.9.2 64-bit",
   "language": "python",
   "name": "python3"
  },
  "language_info": {
   "codemirror_mode": {
    "name": "ipython",
    "version": 3
   },
   "file_extension": ".py",
   "mimetype": "text/x-python",
   "name": "python",
   "nbconvert_exporter": "python",
   "pygments_lexer": "ipython3",
   "version": "3.9.2"
  },
  "orig_nbformat": 4
 },
 "nbformat": 4,
 "nbformat_minor": 2
}
