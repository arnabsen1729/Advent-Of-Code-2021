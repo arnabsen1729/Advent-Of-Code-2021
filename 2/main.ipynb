{
 "cells": [
  {
   "cell_type": "code",
   "execution_count": null,
   "metadata": {},
   "outputs": [],
   "source": []
  },
  {
   "cell_type": "code",
   "execution_count": 18,
   "metadata": {},
   "outputs": [],
   "source": [
    "input = '''forward 5\n",
    "down 5\n",
    "forward 8\n",
    "up 3\n",
    "down 8\n",
    "forward 2'''\n",
    "input = [cmd.split() for cmd in input.split('\\n')]"
   ]
  },
  {
   "cell_type": "code",
   "execution_count": 22,
   "metadata": {},
   "outputs": [],
   "source": [
    "input = open('input.txt').read().strip()\n",
    "input = [cmd.split() for cmd in input.split('\\n')]"
   ]
  },
  {
   "cell_type": "code",
   "execution_count": 11,
   "metadata": {},
   "outputs": [
    {
     "name": "stdout",
     "output_type": "stream",
     "text": [
      "2102357\n"
     ]
    }
   ],
   "source": [
    "horizontal = 0\n",
    "vertical = 0\n",
    "\n",
    "for cmd in input:\n",
    "    if cmd[0] == 'forward':\n",
    "        horizontal += int(cmd[1])\n",
    "    elif cmd[0] == 'up':\n",
    "        vertical -= int(cmd[1])\n",
    "    else:\n",
    "        vertical += int(cmd[1])\n",
    "\n",
    "print(horizontal*vertical)"
   ]
  },
  {
   "cell_type": "code",
   "execution_count": 23,
   "metadata": {},
   "outputs": [
    {
     "name": "stdout",
     "output_type": "stream",
     "text": [
      "2101031224\n"
     ]
    }
   ],
   "source": [
    "horizontal = 0\n",
    "vertical = 0\n",
    "aim = 0\n",
    "\n",
    "for cmd in input:\n",
    "    if cmd[0] == 'forward':\n",
    "        horizontal += int(cmd[1])\n",
    "        vertical += aim*int(cmd[1])\n",
    "    elif cmd[0] == 'up':\n",
    "        aim -= int(cmd[1])\n",
    "    else:\n",
    "        aim += int(cmd[1])\n",
    "\n",
    "print(vertical*horizontal)"
   ]
  }
 ],
 "metadata": {
  "interpreter": {
   "hash": "31f2aee4e71d21fbe5cf8b01ff0e069b9275f58929596ceb00d14d90e3e16cd6"
  },
  "kernelspec": {
   "display_name": "Python 3.9.2 64-bit",
   "language": "python",
   "name": "python3"
  },
  "language_info": {
   "codemirror_mode": {
    "name": "ipython",
    "version": 3
   },
   "file_extension": ".py",
   "mimetype": "text/x-python",
   "name": "python",
   "nbconvert_exporter": "python",
   "pygments_lexer": "ipython3",
   "version": "3.9.2"
  },
  "orig_nbformat": 4
 },
 "nbformat": 4,
 "nbformat_minor": 2
}
