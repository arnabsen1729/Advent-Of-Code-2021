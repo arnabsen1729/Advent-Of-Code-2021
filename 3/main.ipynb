{
 "cells": [
  {
   "cell_type": "code",
   "execution_count": 20,
   "metadata": {},
   "outputs": [],
   "source": [
    "input = '''00100\n",
    "11110\n",
    "10110\n",
    "10111\n",
    "10101\n",
    "01111\n",
    "00111\n",
    "11100\n",
    "10000\n",
    "11001\n",
    "00010\n",
    "01010'''\n",
    "\n",
    "input = input.split('\\n')"
   ]
  },
  {
   "cell_type": "code",
   "execution_count": 33,
   "metadata": {},
   "outputs": [],
   "source": [
    "input = open('input.txt').read().strip().split('\\n')"
   ]
  },
  {
   "cell_type": "code",
   "execution_count": 6,
   "metadata": {},
   "outputs": [
    {
     "name": "stdout",
     "output_type": "stream",
     "text": [
      "['00100', '11110', '10110', '10111', '10101', '01111', '00111', '11100', '10000', '11001', '00010', '01010']\n"
     ]
    }
   ],
   "source": [
    "print(input)"
   ]
  },
  {
   "cell_type": "code",
   "execution_count": 19,
   "metadata": {},
   "outputs": [
    {
     "name": "stdout",
     "output_type": "stream",
     "text": [
      "1776 2319 4118544\n"
     ]
    }
   ],
   "source": [
    "res = ''\n",
    "n = len(input)\n",
    "\n",
    "for index in range(len(input[0])):\n",
    "    count = sum([1 for i in input if i[index] == '1'])\n",
    "    res += '1' if count > n / 2 else '0'\n",
    "\n",
    "gamma = int(res, 2)\n",
    "epsilon = int('1'*len(input[0]), 2)^gamma\n",
    "print(gamma, epsilon, gamma*epsilon)"
   ]
  },
  {
   "cell_type": "code",
   "execution_count": 34,
   "metadata": {},
   "outputs": [
    {
     "name": "stdout",
     "output_type": "stream",
     "text": [
      "3832770\n"
     ]
    }
   ],
   "source": [
    "oxygen = input\n",
    "\n",
    "\n",
    "m = len(input[0])\n",
    "index = 0\n",
    "while len(oxygen) > 1 and index < m:\n",
    "    n = len(oxygen)\n",
    "    count = sum([1 for i in oxygen if i[index] == '1'])\n",
    "    oxygen = list(filter(lambda x: x[index] == ('1' if count >= n/2 else '0'), oxygen))\n",
    "    index += 1\n",
    "\n",
    "co = input\n",
    "index = 0\n",
    "while len(co) > 1 and index < m:\n",
    "    n = len(co)\n",
    "    count = sum([1 for i in co if i[index] == '1'])\n",
    "    co = list(filter(lambda x: x[index] == ('1' if count < n/2 else '0'), co))\n",
    "    index += 1\n",
    "print(int(co[0], 2) * int(oxygen[0], 2))"
   ]
  }
 ],
 "metadata": {
  "interpreter": {
   "hash": "31f2aee4e71d21fbe5cf8b01ff0e069b9275f58929596ceb00d14d90e3e16cd6"
  },
  "kernelspec": {
   "display_name": "Python 3.9.2 64-bit",
   "language": "python",
   "name": "python3"
  },
  "language_info": {
   "codemirror_mode": {
    "name": "ipython",
    "version": 3
   },
   "file_extension": ".py",
   "mimetype": "text/x-python",
   "name": "python",
   "nbconvert_exporter": "python",
   "pygments_lexer": "ipython3",
   "version": "3.9.2"
  },
  "orig_nbformat": 4
 },
 "nbformat": 4,
 "nbformat_minor": 2
}
