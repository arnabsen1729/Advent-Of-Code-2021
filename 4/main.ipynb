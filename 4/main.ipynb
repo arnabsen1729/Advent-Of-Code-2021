{
 "cells": [
  {
   "cell_type": "code",
   "execution_count": 70,
   "metadata": {},
   "outputs": [],
   "source": [
    "input = '''7,4,9,5,11,17,23,2,0,14,21,24,10,16,13,6,15,25,12,22,18,20,8,19,3,26,1\n",
    "\n",
    "22 13 17 11  0\n",
    " 8  2 23  4 24\n",
    "21  9 14 16  7\n",
    " 6 10  3 18  5\n",
    " 1 12 20 15 19\n",
    "\n",
    " 3 15  0  2 22\n",
    " 9 18 13 17  5\n",
    "19  8  7 25 23\n",
    "20 11 10 24  4\n",
    "14 21 16 12  6\n",
    "\n",
    "14 21 17 24  4\n",
    "10 16 15  9 19\n",
    "18  8 23 26 20\n",
    "22 11 13  6  5\n",
    " 2  0 12  3  7'''.strip().split('\\n')\n",
    "\n"
   ]
  },
  {
   "cell_type": "code",
   "execution_count": 112,
   "metadata": {},
   "outputs": [],
   "source": [
    "input = open('input.txt').read().strip().split('\\n')"
   ]
  },
  {
   "cell_type": "code",
   "execution_count": 113,
   "metadata": {},
   "outputs": [],
   "source": [
    "order = [int(n) for n in input[0].split(',')]\n",
    "matrices = [[list(map(int, line.split())) for line in input[offset:offset+5]] for offset in range(2, len(input), 6)]"
   ]
  },
  {
   "cell_type": "code",
   "execution_count": 114,
   "metadata": {},
   "outputs": [],
   "source": [
    "def mark(matrix, value):\n",
    "    for i in range(5):\n",
    "        for j in range(5):\n",
    "            if matrix[i][j] == value:\n",
    "                matrix[i][j] = 'X'\n",
    "    return matrix"
   ]
  },
  {
   "cell_type": "code",
   "execution_count": 115,
   "metadata": {},
   "outputs": [],
   "source": [
    "def checkBINGO(matrix):\n",
    "    # If all numbers in any row or any column of a board are 'X' then BINGO\n",
    "    for row in matrix:\n",
    "        if row.count('X') == 5:\n",
    "            return True\n",
    "        \n",
    "    for i in range(5):\n",
    "        if  [row[i] for row in matrix].count('X') == 5:\n",
    "            return True\n",
    "\n",
    "    return False\n"
   ]
  },
  {
   "cell_type": "code",
   "execution_count": 116,
   "metadata": {},
   "outputs": [],
   "source": [
    "def getUnmarkedSum(matrix):\n",
    "    # sum of all cells that are not 'X'\n",
    "    return sum([sum([x for x in r if x != 'X']) for r in matrix])"
   ]
  },
  {
   "cell_type": "code",
   "execution_count": 117,
   "metadata": {},
   "outputs": [],
   "source": [
    "def display(matrix):\n",
    "    for row in matrix:\n",
    "        print(' '.join(map(str, row)))\n",
    "    print()"
   ]
  },
  {
   "cell_type": "code",
   "execution_count": 118,
   "metadata": {},
   "outputs": [
    {
     "name": "stdout",
     "output_type": "stream",
     "text": [
      "Part 1: 69579\n",
      "Part 2: 14877\n"
     ]
    }
   ],
   "source": [
    "result = []\n",
    "for num in order:\n",
    "    # mark all matrices\n",
    "    for matrix in matrices:\n",
    "\n",
    "        if checkBINGO(matrix):\n",
    "            continue\n",
    "\n",
    "        matrix = mark(matrix, num)\n",
    "        if checkBINGO(matrix):\n",
    "            s1 = num\n",
    "            s2 = getUnmarkedSum(matrix)\n",
    "            result.append(s1*s2)\n",
    "\n",
    "print('Part 1:', result[0])\n",
    "print('Part 2:', result[-1])"
   ]
  }
 ],
 "metadata": {
  "interpreter": {
   "hash": "31f2aee4e71d21fbe5cf8b01ff0e069b9275f58929596ceb00d14d90e3e16cd6"
  },
  "kernelspec": {
   "display_name": "Python 3.9.2 64-bit",
   "language": "python",
   "name": "python3"
  },
  "language_info": {
   "codemirror_mode": {
    "name": "ipython",
    "version": 3
   },
   "file_extension": ".py",
   "mimetype": "text/x-python",
   "name": "python",
   "nbconvert_exporter": "python",
   "pygments_lexer": "ipython3",
   "version": "3.9.2"
  },
  "orig_nbformat": 4
 },
 "nbformat": 4,
 "nbformat_minor": 2
}
