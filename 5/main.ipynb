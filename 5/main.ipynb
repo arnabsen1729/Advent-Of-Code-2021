{
 "cells": [
  {
   "cell_type": "code",
   "execution_count": 1,
   "metadata": {},
   "outputs": [],
   "source": [
    "def parseInput(inp):\n",
    "    lines = inp.strip().split('\\n')\n",
    "    pairs = [line.split(' -> ') for line in lines]\n",
    "    return [[[int(x) for x in p.split(',')] for p in pair] for pair in pairs]"
   ]
  },
  {
   "cell_type": "code",
   "execution_count": 2,
   "metadata": {},
   "outputs": [],
   "source": [
    "input = '''0,9 -> 5,9\n",
    "8,0 -> 0,8\n",
    "9,4 -> 3,4\n",
    "2,2 -> 2,1\n",
    "7,0 -> 7,4\n",
    "6,4 -> 2,0\n",
    "0,9 -> 2,9\n",
    "3,4 -> 1,4\n",
    "0,0 -> 8,8\n",
    "5,5 -> 8,2'''\n"
   ]
  },
  {
   "cell_type": "code",
   "execution_count": 3,
   "metadata": {},
   "outputs": [],
   "source": [
    "input = open('input.txt').read().strip()"
   ]
  },
  {
   "cell_type": "code",
   "execution_count": 4,
   "metadata": {},
   "outputs": [
    {
     "name": "stdout",
     "output_type": "stream",
     "text": [
      "Part 1: 4873\n"
     ]
    }
   ],
   "source": [
    "SIZE = 1000\n",
    "matrix = [[0 for _ in range(SIZE)] for _ in range(SIZE)]\n",
    "lines = list(filter(lambda x: x[0][0] == x[1][0] or x[0][1] == x[1][1] , parseInput(input)))\n",
    "\n",
    "def markLine(line):\n",
    "    start = line[0]\n",
    "    end = line[1]\n",
    "\n",
    "    dx = 0\n",
    "    dy = 0\n",
    "\n",
    "    if start[0] < end[0]:\n",
    "        dx = 1\n",
    "    elif start[0] > end[0]:\n",
    "        dx = -1\n",
    "\n",
    "    if start[1] < end[1]:\n",
    "        dy = 1\n",
    "    elif start[1] > end[1]:\n",
    "        dy = -1\n",
    "\n",
    "    x = start[0]\n",
    "    y = start[1]\n",
    "    while x != end[0] or y != end[1]:\n",
    "        matrix[x][y] += 1\n",
    "        x += dx\n",
    "        y += dy\n",
    "    matrix[end[0]][end[1]] += 1\n",
    "\n",
    "def count(matrix, threshold):\n",
    "    c = 0\n",
    "    for i in range(SIZE):\n",
    "        for j in range(SIZE):\n",
    "            if matrix[i][j] >= threshold:\n",
    "                c += 1\n",
    "    return c\n",
    "\n",
    "for line in lines:\n",
    "    markLine(line)\n",
    "print('Part 1:', count(matrix, 2))\n",
    "\n"
   ]
  },
  {
   "cell_type": "code",
   "execution_count": 5,
   "metadata": {},
   "outputs": [
    {
     "name": "stdout",
     "output_type": "stream",
     "text": [
      "Part 2: 19472\n"
     ]
    }
   ],
   "source": [
    "SIZE = 1000\n",
    "matrix = [[0 for _ in range(SIZE)] for _ in range(SIZE)]\n",
    "lines = parseInput(input)\n",
    "\n",
    "for line in lines:\n",
    "    markLine(line)\n",
    "print('Part 2:', count(matrix, 2))\n",
    "\n"
   ]
  }
 ],
 "metadata": {
  "interpreter": {
   "hash": "31f2aee4e71d21fbe5cf8b01ff0e069b9275f58929596ceb00d14d90e3e16cd6"
  },
  "kernelspec": {
   "display_name": "Python 3.9.2 64-bit",
   "language": "python",
   "name": "python3"
  },
  "language_info": {
   "codemirror_mode": {
    "name": "ipython",
    "version": 3
   },
   "file_extension": ".py",
   "mimetype": "text/x-python",
   "name": "python",
   "nbconvert_exporter": "python",
   "pygments_lexer": "ipython3",
   "version": "3.9.2"
  },
  "orig_nbformat": 4
 },
 "nbformat": 4,
 "nbformat_minor": 2
}
