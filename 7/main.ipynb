{
 "cells": [
  {
   "cell_type": "code",
   "execution_count": 10,
   "metadata": {},
   "outputs": [],
   "source": [
    "input = sorted([int(x) for x in '''16,1,2,0,4,2,7,1,2,14'''.strip().split(',')])"
   ]
  },
  {
   "cell_type": "code",
   "execution_count": 12,
   "metadata": {},
   "outputs": [],
   "source": [
    "input = sorted([int(x) for x in open('input.txt').read().strip().split(',')])"
   ]
  },
  {
   "cell_type": "code",
   "execution_count": 13,
   "metadata": {},
   "outputs": [
    {
     "name": "stdout",
     "output_type": "stream",
     "text": [
      "Part 1: 335271\n"
     ]
    }
   ],
   "source": [
    "n = len(input)\n",
    "target1 = input[n//2]\n",
    "target2 = input[n//2 - 1]\n",
    "\n",
    "def get_deviation(target):\n",
    "    return sum(abs(x - target) for x in input)\n",
    "\n",
    "print('Part 1:', min(get_deviation(target1), get_deviation(target2)))"
   ]
  },
  {
   "cell_type": "code",
   "execution_count": 14,
   "metadata": {},
   "outputs": [
    {
     "name": "stdout",
     "output_type": "stream",
     "text": [
      "Part 2: 95851339\n"
     ]
    }
   ],
   "source": [
    "import math\n",
    "\n",
    "n = len(input)\n",
    "s = sum(input)\n",
    "target1 = math.floor(s/n)\n",
    "target2 = math.ceil(s/n)\n",
    "\n",
    "def get_increase_deviation(target):\n",
    "    res = 0\n",
    "    for x in input:\n",
    "        diff = abs(x - target)\n",
    "        res += diff*(diff+1)//2\n",
    "\n",
    "    return res\n",
    "\n",
    "print('Part 2:', min(get_increase_deviation(target1), get_increase_deviation(target2)))"
   ]
  }
 ],
 "metadata": {
  "interpreter": {
   "hash": "31f2aee4e71d21fbe5cf8b01ff0e069b9275f58929596ceb00d14d90e3e16cd6"
  },
  "kernelspec": {
   "display_name": "Python 3.9.2 64-bit",
   "language": "python",
   "name": "python3"
  },
  "language_info": {
   "codemirror_mode": {
    "name": "ipython",
    "version": 3
   },
   "file_extension": ".py",
   "mimetype": "text/x-python",
   "name": "python",
   "nbconvert_exporter": "python",
   "pygments_lexer": "ipython3",
   "version": "3.9.2"
  },
  "orig_nbformat": 4
 },
 "nbformat": 4,
 "nbformat_minor": 2
}
