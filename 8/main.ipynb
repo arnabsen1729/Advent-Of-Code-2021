{
 "cells": [
  {
   "cell_type": "code",
   "execution_count": 1,
   "metadata": {},
   "outputs": [],
   "source": [
    "def parse_input(inp):\n",
    "    inp = inp.strip().split('\\n')\n",
    "    return [[y.strip().split(' ') for y in x.split('|')] for x in inp]"
   ]
  },
  {
   "cell_type": "code",
   "execution_count": 2,
   "metadata": {},
   "outputs": [],
   "source": [
    "input = '''\n",
    "be cfbegad cbdgef fgaecd cgeb fdcge agebfd fecdb fabcd edb | fdgacbe cefdb cefbgd gcbe\n",
    "edbfga begcd cbg gc gcadebf fbgde acbgfd abcde gfcbed gfec | fcgedb cgb dgebacf gc\n",
    "fgaebd cg bdaec gdafb agbcfd gdcbef bgcad gfac gcb cdgabef | cg cg fdcagb cbg\n",
    "fbegcd cbd adcefb dageb afcb bc aefdc ecdab fgdeca fcdbega | efabcd cedba gadfec cb\n",
    "aecbfdg fbg gf bafeg dbefa fcge gcbea fcaegb dgceab fcbdga | gecf egdcabf bgf bfgea\n",
    "fgeab ca afcebg bdacfeg cfaedg gcfdb baec bfadeg bafgc acf | gebdcfa ecba ca fadegcb\n",
    "dbcfg fgd bdegcaf fgec aegbdf ecdfab fbedc dacgb gdcebf gf | cefg dcbef fcge gbcadfe\n",
    "bdfegc cbegaf gecbf dfcage bdacg ed bedf ced adcbefg gebcd | ed bcgafe cdgba cbgef\n",
    "egadfb cdbfeg cegd fecab cgb gbdefca cg fgcdab egfdb bfceg | gbdfcae bgc cg cgb\n",
    "gcafb gcf dcaebfg ecagb gf abcdeg gaef cafbge fdbac fegbdc | fgae cfgab fg bagce\n",
    "'''"
   ]
  },
  {
   "cell_type": "code",
   "execution_count": 3,
   "metadata": {},
   "outputs": [],
   "source": [
    "input = open('input.txt').read()"
   ]
  },
  {
   "cell_type": "code",
   "execution_count": 4,
   "metadata": {},
   "outputs": [
    {
     "name": "stdout",
     "output_type": "stream",
     "text": [
      "445\n"
     ]
    }
   ],
   "source": [
    "numbers = parse_input(input)\n",
    "count  = 0\n",
    "for num in numbers:\n",
    "    for dig in num[1]:\n",
    "        count += (len(dig) in {2, 3, 4, 7})\n",
    "print(count)"
   ]
  },
  {
   "cell_type": "code",
   "execution_count": 6,
   "metadata": {},
   "outputs": [
    {
     "name": "stdout",
     "output_type": "stream",
     "text": [
      "1043101\n"
     ]
    }
   ],
   "source": [
    "from collections import defaultdict\n",
    "\n",
    "ORG_NUM_MAP = {\n",
    "    'abcefg': 0,\n",
    "    'cf': 1,\n",
    "    'acdeg': 2,\n",
    "    'acdfg': 3,\n",
    "    'bcdf': 4,\n",
    "    'abdfg': 5,\n",
    "    'abdefg': 6,\n",
    "    'acf': 7,\n",
    "    'abcdefg': 8,\n",
    "    'abcdfg': 9\n",
    "}\n",
    "\n",
    "EXP_FREQ = {\n",
    "    6: 'b',\n",
    "    4: 'e',\n",
    "    9: 'f',\n",
    "}\n",
    "\n",
    "\n",
    "def deduce(code):\n",
    "    digits = code[0]\n",
    "    num = code[1]\n",
    "\n",
    "    freq = defaultdict(int)\n",
    "    for d in digits:\n",
    "        for c in d:\n",
    "            freq[c] += 1\n",
    "    \n",
    "    mapping = {}\n",
    "    for k, v in freq.items():\n",
    "        if v in EXP_FREQ:\n",
    "            mapping[k] = EXP_FREQ[v]\n",
    "\n",
    "\n",
    "    # looking for the digit with len 2\n",
    "    one = list(filter(lambda x: len(x) == 2, digits))[0]\n",
    "    mapping_of_c = [k for k, v in freq.items() if v == 8 and k in one]\n",
    "    mapping_of_a = [k for k, v in freq.items() if v == 8 and k not in one]\n",
    "    mapping[mapping_of_c[0]] = 'c'\n",
    "    mapping[mapping_of_a[0]] = 'a'\n",
    "\n",
    "    four = list(filter(lambda x: len(x) == 4, digits))[0]\n",
    "    mapping_of_d = [k for k, v in freq.items() if v == 7 and k in four]\n",
    "    mapping_of_g = [k for k, v in freq.items() if v == 7 and k not in four]\n",
    "    mapping[mapping_of_d[0]] = 'd'\n",
    "    mapping[mapping_of_g[0]] = 'g'\n",
    "\n",
    "    def get_num_from_map(number):\n",
    "        res = 0\n",
    "        for digit in number:\n",
    "            org = [mapping[x] for x in digit]\n",
    "            org.sort()\n",
    "            res = res*10 + ORG_NUM_MAP[''.join(org)]\n",
    "        return res\n",
    "\n",
    "    return get_num_from_map(num)\n",
    "\n",
    "\n",
    "\n",
    "print(sum([deduce(code) for code in numbers]))"
   ]
  }
 ],
 "metadata": {
  "interpreter": {
   "hash": "31f2aee4e71d21fbe5cf8b01ff0e069b9275f58929596ceb00d14d90e3e16cd6"
  },
  "kernelspec": {
   "display_name": "Python 3.9.2 64-bit",
   "language": "python",
   "name": "python3"
  },
  "language_info": {
   "codemirror_mode": {
    "name": "ipython",
    "version": 3
   },
   "file_extension": ".py",
   "mimetype": "text/x-python",
   "name": "python",
   "nbconvert_exporter": "python",
   "pygments_lexer": "ipython3",
   "version": "3.9.2"
  },
  "orig_nbformat": 4
 },
 "nbformat": 4,
 "nbformat_minor": 2
}
