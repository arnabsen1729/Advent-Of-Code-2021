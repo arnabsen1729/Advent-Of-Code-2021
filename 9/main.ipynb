{
 "cells": [
  {
   "cell_type": "code",
   "execution_count": 1,
   "metadata": {},
   "outputs": [],
   "source": [
    "def parse_input(text):\n",
    "    return text.strip().split('\\n')"
   ]
  },
  {
   "cell_type": "code",
   "execution_count": 2,
   "metadata": {},
   "outputs": [],
   "source": [
    "input = '''2199943210\n",
    "3987894921\n",
    "9856789892\n",
    "8767896789\n",
    "9899965678'''"
   ]
  },
  {
   "cell_type": "code",
   "execution_count": 3,
   "metadata": {},
   "outputs": [],
   "source": [
    "input = open('input.txt').read()"
   ]
  },
  {
   "cell_type": "code",
   "execution_count": 4,
   "metadata": {},
   "outputs": [
    {
     "name": "stdout",
     "output_type": "stream",
     "text": [
      "465\n"
     ]
    }
   ],
   "source": [
    "matrix = parse_input(input)\n",
    "count = 0\n",
    "\n",
    "n = len(matrix)\n",
    "m = len(matrix[0])\n",
    "\n",
    "for i in range(n):\n",
    "    for j in range(m):\n",
    "        if i > 0 and matrix[i-1][j] <= matrix[i][j]:\n",
    "            continue\n",
    "        if i < n-1 and matrix[i+1][j] <= matrix[i][j]:\n",
    "            continue\n",
    "        if j > 0 and matrix[i][j-1] <= matrix[i][j]:\n",
    "            continue\n",
    "        if j < m-1 and matrix[i][j+1] <= matrix[i][j]:\n",
    "            continue\n",
    "\n",
    "        count += int(matrix[i][j])+1\n",
    "\n",
    "print(count)"
   ]
  },
  {
   "cell_type": "code",
   "execution_count": 5,
   "metadata": {},
   "outputs": [
    {
     "name": "stdout",
     "output_type": "stream",
     "text": [
      "[113, 107, 105, 98, 95, 94, 93, 91, 89, 87, 87, 86, 85, 84, 84, 83, 83, 81, 80, 80, 78, 77, 77, 77, 77, 75, 74, 70, 70, 69, 68, 68, 67, 67, 67, 67, 66, 65, 64, 64, 63, 63, 63, 60, 60, 60, 59, 59, 58, 58, 56, 55, 55, 54, 54, 52, 52, 52, 52, 52, 51, 51, 50, 50, 48, 48, 48, 48, 45, 45, 45, 44, 43, 42, 42, 41, 41, 40, 40, 40, 40, 39, 37, 37, 36, 36, 34, 34, 34, 34, 34, 32, 32, 32, 31, 31, 30, 29, 29, 28, 28, 28, 28, 28, 28, 27, 26, 26, 26, 25, 25, 25, 24, 24, 24, 24, 23, 23, 21, 21, 21, 21, 20, 20, 19, 19, 19, 19, 19, 19, 18, 18, 18, 18, 18, 17, 17, 17, 17, 17, 16, 16, 16, 16, 16, 15, 15, 15, 15, 14, 14, 14, 14, 13, 13, 12, 12, 12, 12, 11, 11, 11, 11, 11, 11, 11, 9, 9, 9, 9, 9, 8, 8, 7, 7, 7, 7, 6, 6, 6, 6, 5, 5, 5, 5, 5, 4, 4, 4, 4, 4, 4, 4, 4, 3, 3, 3, 3, 3, 3, 2, 2, 2, 2, 2, 2, 2, 2, 2, 2, 2]\n",
      "1269555\n"
     ]
    }
   ],
   "source": [
    "matrix = parse_input(input)\n",
    "low_pts = []\n",
    "\n",
    "n = len(matrix)\n",
    "m = len(matrix[0])\n",
    "\n",
    "for i in range(n):\n",
    "    for j in range(m):\n",
    "        if i > 0 and matrix[i-1][j] <= matrix[i][j]:\n",
    "            continue\n",
    "        if i < n-1 and matrix[i+1][j] <= matrix[i][j]:\n",
    "            continue\n",
    "        if j > 0 and matrix[i][j-1] <= matrix[i][j]:\n",
    "            continue\n",
    "        if j < m-1 and matrix[i][j+1] <= matrix[i][j]:\n",
    "            continue\n",
    "\n",
    "        low_pts.append((i, j))\n",
    "\n",
    "DIR_VEC = [(0, 1), (1, 0), (0, -1), (-1, 0)]\n",
    "def bfs(r, c):\n",
    "    q = [(r, c)]\n",
    "    visited = set()\n",
    "    while q:\n",
    "        r, c = q.pop(0)\n",
    "        if (r, c) in visited:\n",
    "            continue\n",
    "        visited.add((r, c))\n",
    "        \n",
    "        for dr, dc in DIR_VEC:\n",
    "            nr, nc = r+dr, c+dc\n",
    "            if 0 <= nr < n and 0 <= nc < m and int(matrix[nr][nc]) < 9:\n",
    "                q.append((nr, nc))\n",
    "        \n",
    "    return len(visited)\n",
    "\n",
    "basins = sorted([bfs(r, c) for r, c in low_pts], reverse=True)\n",
    "print(basins)\n",
    "print(basins[0]*basins[1]*basins[2])\n"
   ]
  }
 ],
 "metadata": {
  "interpreter": {
   "hash": "31f2aee4e71d21fbe5cf8b01ff0e069b9275f58929596ceb00d14d90e3e16cd6"
  },
  "kernelspec": {
   "display_name": "Python 3.9.2 64-bit",
   "language": "python",
   "name": "python3"
  },
  "language_info": {
   "codemirror_mode": {
    "name": "ipython",
    "version": 3
   },
   "file_extension": ".py",
   "mimetype": "text/x-python",
   "name": "python",
   "nbconvert_exporter": "python",
   "pygments_lexer": "ipython3",
   "version": "3.9.2"
  },
  "orig_nbformat": 4
 },
 "nbformat": 4,
 "nbformat_minor": 2
}
